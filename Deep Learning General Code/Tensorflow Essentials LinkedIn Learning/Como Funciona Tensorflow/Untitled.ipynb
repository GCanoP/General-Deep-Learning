{
 "cells": [
  {
   "cell_type": "markdown",
   "id": "401c81d5",
   "metadata": {},
   "source": [
    "# <span style='color:IndianRed'> Fundamentos Tensorflow.  </span>"
   ]
  },
  {
   "cell_type": "code",
   "execution_count": 4,
   "id": "9930857d",
   "metadata": {},
   "outputs": [],
   "source": [
    "# Importando tensorflow. \n",
    "import tensorflow as tf "
   ]
  },
  {
   "cell_type": "code",
   "execution_count": 5,
   "id": "ae534885",
   "metadata": {},
   "outputs": [],
   "source": [
    "# Ejemplo de Definición de Nodos. \n",
    "\n",
    "a = tf.constant(7, name=\"input_a\")\n",
    "b = tf.constant(3, name=\"input_b\")\n",
    "c = tf.add(a, b, name=\"add_c\")\n",
    "d = tf.multiply(a, b, name=\"mul_d\")\n",
    "e = tf.add(c,d, name = \"add_e\")"
   ]
  },
  {
   "cell_type": "code",
   "execution_count": 17,
   "id": "18bf09b6",
   "metadata": {},
   "outputs": [],
   "source": [
    "sess = tf.compat.v1.Session()"
   ]
  },
  {
   "cell_type": "code",
   "execution_count": 19,
   "id": "e62b4de8",
   "metadata": {},
   "outputs": [],
   "source": []
  },
  {
   "cell_type": "code",
   "execution_count": null,
   "id": "6cc3e26a",
   "metadata": {},
   "outputs": [],
   "source": []
  }
 ],
 "metadata": {
  "kernelspec": {
   "display_name": "Python 3 (ipykernel)",
   "language": "python",
   "name": "python3"
  },
  "language_info": {
   "codemirror_mode": {
    "name": "ipython",
    "version": 3
   },
   "file_extension": ".py",
   "mimetype": "text/x-python",
   "name": "python",
   "nbconvert_exporter": "python",
   "pygments_lexer": "ipython3",
   "version": "3.8.16"
  }
 },
 "nbformat": 4,
 "nbformat_minor": 5
}
